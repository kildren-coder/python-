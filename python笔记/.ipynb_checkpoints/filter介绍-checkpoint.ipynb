{
 "cells": [
  {
   "cell_type": "markdown",
   "metadata": {},
   "source": [
    "## filter（）"
   ]
  },
  {
   "cell_type": "markdown",
   "metadata": {},
   "source": [
    "函数说明：借助函数来过滤给定的序列，测试序列中的元素是否为真\n",
    "***"
   ]
  },
  {
   "cell_type": "markdown",
   "metadata": {},
   "source": [
    "+ 基础语法：filter（function，iterable）\n",
    "+ 参数： function：过滤的函数，iterable：被过滤的可迭代序列\n",
    "+ 返回值：对于fun执行结果为True的元素们，filter object"
   ]
  },
  {
   "cell_type": "markdown",
   "metadata": {},
   "source": [
    "例子："
   ]
  },
  {
   "cell_type": "code",
   "execution_count": 1,
   "metadata": {},
   "outputs": [
    {
     "name": "stdout",
     "output_type": "stream",
     "text": [
      "['o', 'e', 'o']\n"
     ]
    }
   ],
   "source": [
    "# 过滤元音的方法\n",
    "def fun(variable):\n",
    "    letters = ['a', 'e', 'i', 'o', 'u']\n",
    "    if (variable in letters):\n",
    "        return True\n",
    "    else:\n",
    "        return False\n",
    "\n",
    "# 给定序列\n",
    "sequence = ['I', 'l', 'o', 'v', 'e', 'p', 'y','t','h','o','n']\n",
    "\n",
    "# 根据条件得出结果\n",
    "filtered = list(filter(fun, sequence))\n",
    "print(filtered)"
   ]
  },
  {
   "cell_type": "markdown",
   "metadata": {},
   "source": [
    "简单来说，就是把元素抓出来一个个去试，True则保留。"
   ]
  },
  {
   "cell_type": "markdown",
   "metadata": {},
   "source": [
    "再来看一个例子："
   ]
  },
  {
   "cell_type": "code",
   "execution_count": 3,
   "metadata": {},
   "outputs": [
    {
     "name": "stdout",
     "output_type": "stream",
     "text": [
      "[1, 5, 9, 12]\n",
      "[-20, 0, 12]\n"
     ]
    }
   ],
   "source": [
    "def positive(num):\n",
    "    if num>0:\n",
    "        return True\n",
    "    else:\n",
    "        return False\n",
    "\n",
    "def even(num):\n",
    "    if num % 2 == 0:\n",
    "        return True\n",
    "    else:\n",
    "        return False\n",
    "\n",
    "\n",
    "numbers=[1,-3,5,-20,0,9,12]\n",
    "\n",
    "positive_nums = list(filter(positive,numbers))\n",
    "print(positive_nums)\n",
    "\n",
    "even_nums = list(filter(even,numbers))\n",
    "print(even_nums)"
   ]
  },
  {
   "cell_type": "markdown",
   "metadata": {},
   "source": [
    "### 与lambda结合："
   ]
  },
  {
   "cell_type": "code",
   "execution_count": 9,
   "metadata": {},
   "outputs": [
    {
     "name": "stdout",
     "output_type": "stream",
     "text": [
      "[1, -3, 5, 9]\n",
      "[-20, 0, 12]\n",
      "[1, 5, 9, 12]\n"
     ]
    }
   ],
   "source": [
    "result = list(filter(lambda x: x % 2, numbers))  #奇数\n",
    "print(result)\n",
    "\n",
    "result = filter(lambda x: x % 2 == 0, numbers)\n",
    "print(list(result))\n",
    "\n",
    "result = filter(lambda x: x > 0, numbers)\n",
    "print(list(result))"
   ]
  },
  {
   "cell_type": "code",
   "execution_count": null,
   "metadata": {},
   "outputs": [],
   "source": []
  }
 ],
 "metadata": {
  "kernelspec": {
   "display_name": "Python 3",
   "language": "python",
   "name": "python3"
  },
  "language_info": {
   "codemirror_mode": {
    "name": "ipython",
    "version": 3
   },
   "file_extension": ".py",
   "mimetype": "text/x-python",
   "name": "python",
   "nbconvert_exporter": "python",
   "pygments_lexer": "ipython3",
   "version": "3.7.0"
  }
 },
 "nbformat": 4,
 "nbformat_minor": 4
}
