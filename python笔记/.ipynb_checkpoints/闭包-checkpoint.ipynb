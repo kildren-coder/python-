{
 "cells": [
  {
   "cell_type": "markdown",
   "metadata": {},
   "source": [
    "闭包：函数的嵌套"
   ]
  },
  {
   "cell_type": "markdown",
   "metadata": {},
   "source": [
    "常规写法："
   ]
  },
  {
   "cell_type": "code",
   "execution_count": 1,
   "metadata": {},
   "outputs": [],
   "source": [
    "def func():\n",
    "    a = 1\n",
    "    b = 2\n",
    "    return a + b"
   ]
  },
  {
   "cell_type": "markdown",
   "metadata": {},
   "source": [
    "闭包写法："
   ]
  },
  {
   "cell_type": "code",
   "execution_count": 6,
   "metadata": {},
   "outputs": [
    {
     "name": "stdout",
     "output_type": "stream",
     "text": [
      "6\n",
      "<class 'int'>\n",
      "<class 'function'>\n"
     ]
    }
   ],
   "source": [
    "def sumc(a):  #外部函数\n",
    "    def add(b): #内部函数\n",
    "        return a + b\n",
    "    return add\n",
    "\n",
    "num1 = func()\n",
    "num2 = sumc(2)\n",
    "\n",
    "# add 函数名称或函数的引用\n",
    "# add（）函数的调用\n",
    "# 此时 num2 就是 add 函数\n",
    "\n",
    "print(num2(4))\n",
    "\n",
    "print(type(num1))\n",
    "print(type(num2))"
   ]
  },
  {
   "cell_type": "markdown",
   "metadata": {},
   "source": [
    " 闭包实现每调用一次函数，函数加一："
   ]
  },
  {
   "cell_type": "code",
   "execution_count": 7,
   "metadata": {},
   "outputs": [
    {
     "name": "stdout",
     "output_type": "stream",
     "text": [
      "1\n"
     ]
    }
   ],
   "source": [
    "def counter():\n",
    "    cnt = [0]\n",
    "    def add_one():\n",
    "        cnt[0] += 1\n",
    "        return cnt[0]\n",
    "    \n",
    "    return add_one\n",
    "\n",
    "num1 = counter()\n",
    "print(num1())"
   ]
  },
  {
   "cell_type": "markdown",
   "metadata": {},
   "source": [
    "一些参数变，一些参数不变："
   ]
  },
  {
   "cell_type": "code",
   "execution_count": 9,
   "metadata": {},
   "outputs": [
    {
     "name": "stdout",
     "output_type": "stream",
     "text": [
      "35\n",
      "65\n"
     ]
    }
   ],
   "source": [
    "# 计算 a * x + b = y\n",
    "def a_line(a, b):\n",
    "    def arg_y(x):\n",
    "        return a * x + b\n",
    "    return arg_y\n",
    "\n",
    "# a=3,b=5\n",
    "# x = 10\n",
    "\n",
    "line1 = a_line(3,5)\n",
    "print(line1(10))\n",
    "\n",
    "# x = 20\n",
    "print(line1(20))"
   ]
  },
  {
   "cell_type": "markdown",
   "metadata": {},
   "source": [
    "与lambda组合："
   ]
  },
  {
   "cell_type": "code",
   "execution_count": null,
   "metadata": {},
   "outputs": [],
   "source": [
    "def a_line_lambda(a, b):\n",
    "    def arg_y(x):\n",
    "        return lambda x:a * x + b"
   ]
  }
 ],
 "metadata": {
  "kernelspec": {
   "display_name": "Python 3",
   "language": "python",
   "name": "python3"
  },
  "language_info": {
   "codemirror_mode": {
    "name": "ipython",
    "version": 3
   },
   "file_extension": ".py",
   "mimetype": "text/x-python",
   "name": "python",
   "nbconvert_exporter": "python",
   "pygments_lexer": "ipython3",
   "version": "3.7.0"
  }
 },
 "nbformat": 4,
 "nbformat_minor": 4
}
