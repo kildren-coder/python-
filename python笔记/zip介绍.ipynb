{
 "cells": [
  {
   "cell_type": "markdown",
   "metadata": {},
   "source": [
    "## zip函数\n",
    "函数说明：将可迭代的对象作为参数，将对象中对应的元素打包成一个个元组，然后返回由这些元组组成的列表。\n",
    "简单来说就是将传入的对象组合打包，以元组的形式返回。\n",
    "***\n",
    "+ 基础语法： zip（*iterators）\n",
    "+ 参数：iterators为可迭代对象\n",
    "+ 返回值：单个可迭代对象，具有来自所有容器的映射值"
   ]
  },
  {
   "cell_type": "markdown",
   "metadata": {},
   "source": [
    "### 用法："
   ]
  },
  {
   "cell_type": "markdown",
   "metadata": {},
   "source": [
    "创建dict："
   ]
  },
  {
   "cell_type": "code",
   "execution_count": 1,
   "metadata": {},
   "outputs": [
    {
     "name": "stdout",
     "output_type": "stream",
     "text": [
      "{'name': 'xiaobai', 'age': 18}\n"
     ]
    }
   ],
   "source": [
    "keys = ['name', 'age']\n",
    "values = ['xiaobai', 18]\n",
    "my_dict = dict(zip(keys,values))\n",
    "print(my_dict)"
   ]
  },
  {
   "cell_type": "markdown",
   "metadata": {},
   "source": [
    "多个对象组合："
   ]
  },
  {
   "cell_type": "code",
   "execution_count": 4,
   "metadata": {},
   "outputs": [
    {
     "name": "stdout",
     "output_type": "stream",
     "text": [
      "The zipped resuly is: [('xiaobai', 4, 40), ('john', 1, 50), ('mike', 3, 60), ('alpha', 2, 70)]\n"
     ]
    }
   ],
   "source": [
    "name = [ 'xiaobai', 'john', 'mike', 'alpha']\n",
    "age = [4, 1, 3, 2]\n",
    "marks = [40, 50, 60, 70]\n",
    "\n",
    "mapped = list(zip(name, age, marks))\n",
    "print(\"The zipped resuly is:\", mapped)"
   ]
  },
  {
   "cell_type": "markdown",
   "metadata": {},
   "source": [
    "解包："
   ]
  },
  {
   "cell_type": "code",
   "execution_count": 5,
   "metadata": {},
   "outputs": [
    {
     "name": "stdout",
     "output_type": "stream",
     "text": [
      "('xiaobai', 'john', 'mike', 'alpha')\n",
      "(4, 1, 3, 2)\n",
      "(40, 50, 60, 70)\n"
     ]
    }
   ],
   "source": [
    "names, ages, marks = zip(*mapped)\n",
    "print(names)\n",
    "print(ages)\n",
    "print(marks)"
   ]
  }
 ],
 "metadata": {
  "kernelspec": {
   "display_name": "Python 3",
   "language": "python",
   "name": "python3"
  },
  "language_info": {
   "codemirror_mode": {
    "name": "ipython",
    "version": 3
   },
   "file_extension": ".py",
   "mimetype": "text/x-python",
   "name": "python",
   "nbconvert_exporter": "python",
   "pygments_lexer": "ipython3",
   "version": "3.7.0"
  }
 },
 "nbformat": 4,
 "nbformat_minor": 4
}
